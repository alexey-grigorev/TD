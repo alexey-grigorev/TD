{
 "cells": [
  {
   "cell_type": "code",
   "execution_count": 1,
   "metadata": {},
   "outputs": [],
   "source": [
    "import os\n",
    "import json\n",
    "from PIL import Image, ImageDraw\n",
    "import struct\n",
    "import binascii\n",
    "import matplotlib.pyplot as plt\n",
    "%matplotlib inline"
   ]
  },
  {
   "cell_type": "code",
   "execution_count": 2,
   "metadata": {},
   "outputs": [],
   "source": [
    "items = [f[:-4] for f in os.listdir('Raw') if f[-4:]=='.bmp']\n",
    "\n",
    "# check if table bbox exists\n",
    "valid_items = []\n",
    "for item in items:\n",
    "    with open('Labeled/'+item+'.xml', \"r\") as f:\n",
    "        xml = f.read()\n",
    "        if xml.find('Composites Label=\"Table\"')!=-1:\n",
    "            valid_items.append(item)"
   ]
  },
  {
   "cell_type": "code",
   "execution_count": 3,
   "metadata": {},
   "outputs": [],
   "source": [
    "for item in valid_items:\n",
    "    width, height = Image.open('Evaluated_Images/'+item+'.jpg').size\n",
    "    im = Image.open('Evaluated_Images/'+item+'.jpg').convert('RGB')\n",
    "    with open('Labeled/'+item+'.xml', \"r\") as f:\n",
    "        xml = f.read()\n",
    "        table_block = xml.split('Composites Label=\"Table\"')[1].split('</Composites>')[0] # store all tables\n",
    "        samples = table_block.split('<Composite BBox=\"')[1:]\n",
    "        for sample in samples:\n",
    "            bbox_hex = sample.split('\"')[0].split() # wannable bbox (hex string)\n",
    "            bbox_int = [round(96/72*struct.unpack('!d', bytes.fromhex(x))[0]) for x in bbox_hex] #from ieee754 to int\n",
    "            xmin, ymin, xmax, ymax = bbox_int\n",
    "            ymin = height - ymin\n",
    "            ymax = height - ymax\n",
    "            draw = ImageDraw.Draw(im, 'RGBA')\n",
    "            draw.line((xmin, ymin) + (xmin, ymax), fill=(255, 80, 80, 100), width=4)\n",
    "            draw.line((xmin, ymin) + (xmax, ymin), fill=(255, 80, 80, 100), width=4)\n",
    "            draw.line((xmax, ymax) + (xmin, ymax), fill=(255, 80, 80, 100), width=4)\n",
    "            draw.line((xmax, ymax) + (xmax, ymin), fill=(255, 80, 80, 100), width=4)\n",
    "            del draw\n",
    "        im.save('Evaluated_GT_images/'+item+'.jpg')"
   ]
  },
  {
   "cell_type": "code",
   "execution_count": 15,
   "metadata": {},
   "outputs": [],
   "source": [
    "# obtaining ground truths: label left top right bottom \n",
    "for item in valid_items:\n",
    "    width, height = Image.open('Evaluated_Images/'+item+'.jpg').size\n",
    "    with open('Labeled/'+item+'.xml', \"r\") as f:\n",
    "        xml = f.read()\n",
    "        table_block = xml.split('Composites Label=\"Table\"')[1].split('</Composites>')[0] # store all tables\n",
    "        samples = table_block.split('<Composite BBox=\"')[1:]\n",
    "        with open('Ground_Truth/'+item+'.txt', \"w\") as f_out:\n",
    "            for sample in samples:\n",
    "                bbox_hex = sample.split('\"')[0].split() # wannable bbox (hex string)\n",
    "                bbox_int = [round(96/72*struct.unpack('!d', bytes.fromhex(x))[0]) for x in bbox_hex] #from ieee754 to int\n",
    "                xmin, ymin, xmax, ymax = bbox_int\n",
    "                ymin = height - ymin\n",
    "                ymax = height - ymax\n",
    "                (left, right, top, bottom) = (xmin, xmax, ymin, ymax)\n",
    "                f_out.write(' '.join(['table', str(left), str(top), str(right), str(bottom)]))\n",
    "                f_out.write('\\n')"
   ]
  }
 ],
 "metadata": {
  "kernelspec": {
   "display_name": "Python 3",
   "language": "python",
   "name": "python3"
  },
  "language_info": {
   "codemirror_mode": {
    "name": "ipython",
    "version": 3
   },
   "file_extension": ".py",
   "mimetype": "text/x-python",
   "name": "python",
   "nbconvert_exporter": "python",
   "pygments_lexer": "ipython3",
   "version": "3.6.9"
  }
 },
 "nbformat": 4,
 "nbformat_minor": 2
}
