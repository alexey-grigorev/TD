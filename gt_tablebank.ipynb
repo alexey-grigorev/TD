{
 "cells": [
  {
   "cell_type": "code",
   "execution_count": 1,
   "metadata": {},
   "outputs": [],
   "source": [
    "import json\n",
    "import os\n",
    "import pandas as pd\n",
    "from PIL import Image, ImageDraw\n",
    "import pickle\n",
    "import matplotlib.pyplot as plt\n",
    "%matplotlib inline"
   ]
  },
  {
   "cell_type": "code",
   "execution_count": 6,
   "metadata": {},
   "outputs": [
    {
     "name": "stdout",
     "output_type": "stream",
     "text": [
      "(101889, 7) (78399, 5)\n",
      "(101889, 5)\n"
     ]
    }
   ],
   "source": [
    "with open(\"TableBank_data/Detection_data/Word/Word.json\", \"r\") as file:\n",
    "    data = json.load(file)\n",
    "\n",
    "df_annot = pd.DataFrame(data['annotations'])\n",
    "df_images = pd.DataFrame(data['images'])\n",
    "df_images.columns = ['file_name', 'width', 'image_id', 'height', 'license'] # word\n",
    "print(df_annot.shape, df_images.shape)\n",
    "\n",
    "df_word = pd.merge(df_images, df_annot, on='image_id')[['image_id', 'file_name', 'height', 'width', 'bbox']]\n",
    "print(df_word.shape)"
   ]
  },
  {
   "cell_type": "code",
   "execution_count": 3,
   "metadata": {},
   "outputs": [
    {
     "name": "stdout",
     "output_type": "stream",
     "text": [
      "(253817, 7) (200183, 5)\n",
      "(253817, 5)\n"
     ]
    }
   ],
   "source": [
    "with open(\"TableBank_data/Detection_data/Latex/Latex.json\", \"r\") as file:\n",
    "    data = json.load(file)\n",
    "\n",
    "df_annot = pd.DataFrame(data['annotations'])\n",
    "df_images = pd.DataFrame(data['images'])\n",
    "df_images.columns = ['file_name', 'image_id', 'license', 'width', 'height'] # latex\n",
    "print(df_annot.shape, df_images.shape)\n",
    "\n",
    "df_latex = pd.merge(df_images, df_annot, on='image_id')[['image_id', 'file_name', 'height', 'width', 'bbox']]\n",
    "print(df_latex.shape)"
   ]
  },
  {
   "cell_type": "code",
   "execution_count": 4,
   "metadata": {},
   "outputs": [
    {
     "data": {
      "text/html": [
       "<div>\n",
       "<style scoped>\n",
       "    .dataframe tbody tr th:only-of-type {\n",
       "        vertical-align: middle;\n",
       "    }\n",
       "\n",
       "    .dataframe tbody tr th {\n",
       "        vertical-align: top;\n",
       "    }\n",
       "\n",
       "    .dataframe thead th {\n",
       "        text-align: right;\n",
       "    }\n",
       "</style>\n",
       "<table border=\"1\" class=\"dataframe\">\n",
       "  <thead>\n",
       "    <tr style=\"text-align: right;\">\n",
       "      <th></th>\n",
       "      <th>image_id</th>\n",
       "      <th>file_name</th>\n",
       "      <th>height</th>\n",
       "      <th>width</th>\n",
       "      <th>bbox</th>\n",
       "    </tr>\n",
       "  </thead>\n",
       "  <tbody>\n",
       "    <tr>\n",
       "      <th>0</th>\n",
       "      <td>1</td>\n",
       "      <td>%20Edward%20Dawes%20paper_13.jpg</td>\n",
       "      <td>842</td>\n",
       "      <td>596</td>\n",
       "      <td>[89, 316, 388, 119]</td>\n",
       "    </tr>\n",
       "    <tr>\n",
       "      <th>1</th>\n",
       "      <td>2</td>\n",
       "      <td>%20Edward%20Dawes%20paper_14.jpg</td>\n",
       "      <td>842</td>\n",
       "      <td>596</td>\n",
       "      <td>[89, 423, 397, 69]</td>\n",
       "    </tr>\n",
       "    <tr>\n",
       "      <th>2</th>\n",
       "      <td>3</td>\n",
       "      <td>%20Edward%20Dawes%20paper_15.jpg</td>\n",
       "      <td>842</td>\n",
       "      <td>596</td>\n",
       "      <td>[84, 87, 400, 114]</td>\n",
       "    </tr>\n",
       "    <tr>\n",
       "      <th>3</th>\n",
       "      <td>4</td>\n",
       "      <td>%20Edward%20Dawes%20paper_3.jpg</td>\n",
       "      <td>842</td>\n",
       "      <td>596</td>\n",
       "      <td>[84, 554, 378, 146]</td>\n",
       "    </tr>\n",
       "    <tr>\n",
       "      <th>4</th>\n",
       "      <td>5</td>\n",
       "      <td>%20Edward%20Dawes%20paper_5.jpg</td>\n",
       "      <td>842</td>\n",
       "      <td>596</td>\n",
       "      <td>[85, 72, 410, 248]</td>\n",
       "    </tr>\n",
       "  </tbody>\n",
       "</table>\n",
       "</div>"
      ],
      "text/plain": [
       "   image_id                         file_name  height  width  \\\n",
       "0         1  %20Edward%20Dawes%20paper_13.jpg     842    596   \n",
       "1         2  %20Edward%20Dawes%20paper_14.jpg     842    596   \n",
       "2         3  %20Edward%20Dawes%20paper_15.jpg     842    596   \n",
       "3         4   %20Edward%20Dawes%20paper_3.jpg     842    596   \n",
       "4         5   %20Edward%20Dawes%20paper_5.jpg     842    596   \n",
       "\n",
       "                  bbox  \n",
       "0  [89, 316, 388, 119]  \n",
       "1   [89, 423, 397, 69]  \n",
       "2   [84, 87, 400, 114]  \n",
       "3  [84, 554, 378, 146]  \n",
       "4   [85, 72, 410, 248]  "
      ]
     },
     "execution_count": 4,
     "metadata": {},
     "output_type": "execute_result"
    }
   ],
   "source": [
    "df = pd.concat([df_word, df_latex], ignore_index=True)\n",
    "df.head()"
   ]
  },
  {
   "cell_type": "code",
   "execution_count": 2,
   "metadata": {},
   "outputs": [],
   "source": [
    "with open('data_dir/mixed_experiment/val_images.pickle', 'rb') as f:\n",
    "    val_images = pickle.load(f)"
   ]
  },
  {
   "cell_type": "code",
   "execution_count": 4,
   "metadata": {},
   "outputs": [],
   "source": [
    "test_images = [x for x in val_images if len(x) < 15][:1000]"
   ]
  },
  {
   "cell_type": "code",
   "execution_count": 8,
   "metadata": {},
   "outputs": [],
   "source": [
    "for image in test_images:\n",
    "    loc_df = df[df['file_name']==image+'.jpg']\n",
    "    assert len(loc_df) != 0\n",
    "    \n",
    "    with open('/home/alexeygrigoriev/Projects/TD/data_dir/test_images/TableBank/Ground_Truth/'+\\\n",
    "              image+'.txt', \"w\") as f_out:\n",
    "        for bbox in loc_df['bbox']:\n",
    "            xmin, ymin, dx, dy = bbox\n",
    "            xmax = xmin + dx\n",
    "            ymax = ymin + dy\n",
    "            (left, right, top, bottom) = (xmin, xmax, ymin, ymax)\n",
    "            f_out.write(' '.join(['table', str(left), str(top), str(right), str(bottom)]))\n",
    "            f_out.write('\\n')"
   ]
  },
  {
   "cell_type": "code",
   "execution_count": 5,
   "metadata": {},
   "outputs": [],
   "source": [
    "# copy test_images\n",
    "for image in test_images:\n",
    "    im = Image.open('data_dir/mixed_experiment/images/'+image+'.jpg')\n",
    "    im.save('data_dir/test_images/TableBank/mixed_images/'+image+'.jpg')\n",
    "\n",
    "assert  sorted([x[:-4] for x in os.listdir('data_dir/test_images/TableBank/dtrans_images/')]) == \\\n",
    "        sorted([x[:-4] for x in os.listdir('data_dir/test_images/TableBank/Ground_Truth/')])"
   ]
  }
 ],
 "metadata": {
  "kernelspec": {
   "display_name": "Python 3",
   "language": "python",
   "name": "python3"
  },
  "language_info": {
   "codemirror_mode": {
    "name": "ipython",
    "version": 3
   },
   "file_extension": ".py",
   "mimetype": "text/x-python",
   "name": "python",
   "nbconvert_exporter": "python",
   "pygments_lexer": "ipython3",
   "version": "3.6.9"
  }
 },
 "nbformat": 4,
 "nbformat_minor": 2
}
