{
 "cells": [
  {
   "cell_type": "code",
   "execution_count": 1,
   "metadata": {},
   "outputs": [],
   "source": [
    "import os\n",
    "import json\n",
    "from PIL import Image"
   ]
  },
  {
   "cell_type": "code",
   "execution_count": 2,
   "metadata": {},
   "outputs": [
    {
     "data": {
      "text/plain": [
       "509"
      ]
     },
     "execution_count": 2,
     "metadata": {},
     "output_type": "execute_result"
    }
   ],
   "source": [
    "items = [f[:-4] for f in os.listdir('Raw') if f[-4:]=='.bmp']\n",
    "len(items)"
   ]
  },
  {
   "cell_type": "code",
   "execution_count": 3,
   "metadata": {},
   "outputs": [],
   "source": [
    "# 1. bmp2jpg\n",
    "for item in items:\n",
    "    im = Image.open('Raw/'+item+'.bmp')\n",
    "    rgb_im = im.convert('RGB')\n",
    "    rgb_im.save('Raw_Images_JPG/'+item+'.jpg')"
   ]
  },
  {
   "cell_type": "code",
   "execution_count": 4,
   "metadata": {},
   "outputs": [],
   "source": [
    "# 2. bounding box to Pascal VOC format"
   ]
  },
  {
   "cell_type": "code",
   "execution_count": 5,
   "metadata": {},
   "outputs": [
    {
     "name": "stdout",
     "output_type": "stream",
     "text": [
      "478\n"
     ]
    }
   ],
   "source": [
    "# check if table bbox exists\n",
    "valid_items = []\n",
    "for item in items:\n",
    "    with open('Labeled/'+item+'.xml', \"r\") as f:\n",
    "        xml = f.read()\n",
    "        if xml.find('Composites Label=\"Table\"')!=-1:\n",
    "            valid_items.append(item)\n",
    "            \n",
    "print(len(valid_items))"
   ]
  },
  {
   "cell_type": "code",
   "execution_count": 6,
   "metadata": {},
   "outputs": [],
   "source": [
    "import struct\n",
    "import binascii\n",
    "\n",
    "for item in valid_items:\n",
    "    width, height = Image.open('Raw_Images_JPG/'+item+'.jpg').size\n",
    "    template = '''\n",
    "<annotation>\n",
    "  <filename>%(item)s.jpg</filename>\n",
    "  <size>\n",
    "    <width>%(width)s</width>\n",
    "    <height>%(height)s</height>\n",
    "    <depth>3</depth>\n",
    "  </size>\n",
    "  <segmented>0</segmented>'''%{\n",
    "    'item': item,\n",
    "    'width': width,\n",
    "    'height': height,}\n",
    "\n",
    "    with open('Labeled/'+item+'.xml', \"r\") as f:\n",
    "        xml = f.read()\n",
    "        table_block = xml.split('Composites Label=\"Table\"')[1].split('</Composites>')[0] # store all tables\n",
    "        samples = table_block.split('<Composite BBox=\"')[1:]\n",
    "        for sample in samples:\n",
    "            bbox_hex = sample.split('\"')[0].split() # wannable bbox (hex string)\n",
    "            bbox_int = [round(96/72*struct.unpack('!d', bytes.fromhex(x))[0]) for x in bbox_hex] #from ieee754 to int\n",
    "            xmin, ymin, xmax, ymax = bbox_int\n",
    "            ymin = height - ymin\n",
    "            ymax = height - ymax\n",
    "            assert width>=xmin and width>=xmax and height>=ymin and height>=ymax\n",
    "            assert xmax>=xmin and ymax>=ymin\n",
    "            template += '''\n",
    "  <object>\n",
    "    <name>table</name>\n",
    "    <bndbox>\n",
    "      <xmin>%(xmin)s</xmin>\n",
    "      <ymin>%(ymin)s</ymin>\n",
    "      <xmax>%(xmax)s</xmax>\n",
    "      <ymax>%(ymax)s</ymax>\n",
    "    </bndbox>\n",
    "  </object>\n",
    "  '''%{\n",
    "    'xmin': min(xmin, xmax), # all due to shitty xmls\n",
    "    'ymin': min(ymin, ymax),\n",
    "    'xmax': max(xmin, xmax),\n",
    "    'ymax': max(ymin, ymax),\n",
    "    }\n",
    "    template += '</annotation>'\n",
    "    with open('Annotations/'+item+'.xml', 'w') as outfile:\n",
    "        outfile.write(template)"
   ]
  },
  {
   "cell_type": "code",
   "execution_count": 7,
   "metadata": {},
   "outputs": [],
   "source": [
    "with open('trainval.txt', 'w') as outfile:\n",
    "    outfile.write('\\n'.join(valid_items))"
   ]
  },
  {
   "cell_type": "code",
   "execution_count": 8,
   "metadata": {},
   "outputs": [],
   "source": [
    "invalid_items = [x for x in items if x not in valid_items]"
   ]
  },
  {
   "cell_type": "code",
   "execution_count": null,
   "metadata": {},
   "outputs": [],
   "source": [
    "for item in valid_items:\n",
    "    im = Image.open('Raw/'+item+'.bmp')\n",
    "    rgb_im = im.convert('RGB')\n",
    "    rgb_im.save('Valid_Images/'+item+'.jpg')\n",
    "    \n",
    "for item in invalid_items:\n",
    "    im = Image.open('Raw/'+item+'.bmp')\n",
    "    rgb_im = im.convert('RGB')\n",
    "    rgb_im.save('invalid_Images/'+item+'.jpg')"
   ]
  },
  {
   "cell_type": "code",
   "execution_count": 74,
   "metadata": {},
   "outputs": [
    {
     "name": "stdout",
     "output_type": "stream",
     "text": [
      "245 657 559 741\n",
      "179 324 542 436\n"
     ]
    }
   ],
   "source": [
    "from PIL import Image, ImageDraw\n",
    "import struct\n",
    "import binascii\n",
    "import matplotlib.pyplot as plt\n",
    "%matplotlib inline\n",
    "\n",
    "i=112\n",
    "for item in valid_items[i:i+1]:\n",
    "    width, height = Image.open('Raw_Images_JPG/'+item+'.jpg').size\n",
    "    im = Image.open('Raw_Images_JPG/'+item+'.jpg')\n",
    "    with open('Labeled/'+item+'.xml', \"r\") as f:\n",
    "        xml = f.read()\n",
    "        table_block = xml.split('Composites Label=\"Table\"')[1].split('</Composites>')[0] # store all tables\n",
    "        samples = table_block.split('<Composite BBox=\"')[1:]\n",
    "        for sample in samples:\n",
    "            bbox_hex = sample.split('\"')[0].split() # wannable bbox (hex string)\n",
    "            bbox_int = [round(96/72*struct.unpack('!d', bytes.fromhex(x))[0]) for x in bbox_hex] #from ieee754 to int\n",
    "            xmin, ymin, xmax, ymax = bbox_int\n",
    "            ymin = height - ymin\n",
    "            ymax = height - ymax\n",
    "            print(xmin, ymin, xmax, ymax)\n",
    "            draw = ImageDraw.Draw(im)\n",
    "            draw.line((xmin, ymin) + (xmin, ymax), fill=128)\n",
    "            draw.line((xmin, ymin) + (xmax, ymin), fill=128)\n",
    "            draw.line((xmax, ymax) + (xmin, ymax), fill=128)\n",
    "            draw.line((xmax, ymax) + (xmax, ymin), fill=128)\n",
    "            del draw\n",
    "    im.show()"
   ]
  },
  {
   "cell_type": "code",
   "execution_count": null,
   "metadata": {},
   "outputs": [],
   "source": []
  }
 ],
 "metadata": {
  "kernelspec": {
   "display_name": "Python 3",
   "language": "python",
   "name": "python3"
  },
  "language_info": {
   "codemirror_mode": {
    "name": "ipython",
    "version": 3
   },
   "file_extension": ".py",
   "mimetype": "text/x-python",
   "name": "python",
   "nbconvert_exporter": "python",
   "pygments_lexer": "ipython3",
   "version": "3.7.3"
  }
 },
 "nbformat": 4,
 "nbformat_minor": 2
}
