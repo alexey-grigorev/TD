{
 "cells": [
  {
   "cell_type": "code",
   "execution_count": 1,
   "metadata": {},
   "outputs": [],
   "source": [
    "import os\n",
    "import json\n",
    "from PIL import Image\n",
    "from scipy import ndimage\n",
    "import matplotlib.pyplot as plt\n",
    "%matplotlib inline\n",
    "import numpy as np\n",
    "import tqdm"
   ]
  },
  {
   "cell_type": "markdown",
   "metadata": {},
   "source": [
    "### 1. Collecting distance transformed images"
   ]
  },
  {
   "cell_type": "code",
   "execution_count": 2,
   "metadata": {},
   "outputs": [],
   "source": [
    "items = [f for f in os.listdir('data_dir/raw_experiment/images') if f[-4:]=='.jpg']\n",
    "midd = len(items)//2\n",
    "items = items#[:midd]"
   ]
  },
  {
   "cell_type": "code",
   "execution_count": 6,
   "metadata": {},
   "outputs": [],
   "source": [
    "threshold = 200\n",
    "fn = lambda x : 255 if x > threshold else 0"
   ]
  },
  {
   "cell_type": "code",
   "execution_count": null,
   "metadata": {},
   "outputs": [
    {
     "name": "stderr",
     "output_type": "stream",
     "text": [
      "  2%|▏         | 3466/139291 [23:22<14:51:58,  2.54it/s]"
     ]
    }
   ],
   "source": [
    "for item in tqdm.tqdm(items):\n",
    "    im = Image.open('data_dir/raw_experiment/images/'+item).convert(\"L\")\n",
    "\n",
    "    # binarization\n",
    "    image = im.convert('L').point(fn, mode='1')\n",
    "    binarized_data = np.array(image)\n",
    "    to_int = np.vectorize(int)\n",
    "    binary_data = to_int(image)\n",
    "    \n",
    "    # 1. Euclidean\n",
    "    euc_tranformed = ndimage.distance_transform_edt(binary_data)\n",
    "    euc_tranformed = np.round(255*euc_tranformed/np.max(euc_tranformed)).astype('uint8')\n",
    "\n",
    "    # 2. Chessboard\n",
    "    chess_tranformed = ndimage.distance_transform_cdt(binary_data, metric='chessboard')\n",
    "    chess_tranformed = np.round(255*chess_tranformed/np.max(chess_tranformed)).astype('uint8')\n",
    "\n",
    "    # 3. Taxicab\n",
    "    taxicab_tranformed = ndimage.distance_transform_cdt(binary_data, metric='taxicab')\n",
    "    taxicab_tranformed = np.round(255*taxicab_tranformed/np.max(taxicab_tranformed)).astype('uint8')\n",
    "    \n",
    "    # final transform in accordance with RGB channels\n",
    "    # reversed for convenience\n",
    "    transformed_data = 255 - np.array([list(zip(x, y, z)) for x, y, z in\\\n",
    "                                 zip(euc_tranformed, chess_tranformed, taxicab_tranformed)])\n",
    "    PIL_image = Image.fromarray(transformed_data)\n",
    "    PIL_image.save('../../dtrans_experiment/images/'+item)"
   ]
  },
  {
   "cell_type": "markdown",
   "metadata": {},
   "source": [
    "### 2. Mixing channels: original (greyscacle), euclidean, chessboard"
   ]
  },
  {
   "cell_type": "code",
   "execution_count": 4,
   "metadata": {},
   "outputs": [],
   "source": [
    "items = [f for f in os.listdir('data_dir/raw_experiment/images') if f[-4:]=='.jpg']\n",
    "#done = set([f for f in os.listdir('../../mixed_experiment/images') if f[-4:]=='.jpg'])\n",
    "#items = list(items.difference(done))"
   ]
  },
  {
   "cell_type": "code",
   "execution_count": 18,
   "metadata": {},
   "outputs": [
    {
     "name": "stderr",
     "output_type": "stream",
     "text": [
      "100%|██████████| 1/1 [00:00<00:00, 45.55it/s]\n"
     ]
    }
   ],
   "source": [
    "for item in tqdm.tqdm(items):\n",
    "    img = Image.open('data_dir/raw_experiment/images/'+item)\n",
    "    grey = img.convert('L')\n",
    "    dt_img = Image.open('data_dir/dtrans_experiment/images/'+item)\n",
    "    euc, chess, taxicab = dt_img.split()\n",
    "    mixed = Image.merge(\"RGB\", (grey, euc, chess))\n",
    "    mixed.save('data_dir/mixed_experiment/images/'+item)"
   ]
  },
  {
   "cell_type": "code",
   "execution_count": 2,
   "metadata": {},
   "outputs": [],
   "source": [
    "# for test random_stuff\n",
    "items = [f for f in os.listdir('data_dir/test_images/random_stuff/images') if f[-4:]=='.jpg']"
   ]
  },
  {
   "cell_type": "code",
   "execution_count": 3,
   "metadata": {},
   "outputs": [],
   "source": [
    "fn = lambda x : 255 if x > threshold else 0\n",
    "        \n",
    "for item in tqdm.tqdm(items):\n",
    "    if item.split('.')[0][-2:] == 'ph':\n",
    "        threshold = 135\n",
    "    else:\n",
    "        threshold = 200\n",
    "        \n",
    "    im = Image.open('data_dir/test_images/random_stuff/images/'+item).convert(\"L\")\n",
    "    grey = im\n",
    "        \n",
    "    # binarization\n",
    "    image = im.convert('L').point(fn, mode='1')\n",
    "    binarized_data = np.array(image)\n",
    "    to_int = np.vectorize(int)\n",
    "    binary_data = to_int(image)\n",
    "    \n",
    "    # 1. Euclidean\n",
    "    euc_tranformed = ndimage.distance_transform_edt(binary_data)\n",
    "    euc_tranformed = 255 - np.round(255*euc_tranformed/np.max(euc_tranformed)).astype('uint8')\n",
    "\n",
    "    # 2. Chessboard\n",
    "    chess_tranformed = ndimage.distance_transform_cdt(binary_data, metric='chessboard')\n",
    "    chess_tranformed = 255 - np.round(255*chess_tranformed/np.max(chess_tranformed)).astype('uint8')\n",
    "    \n",
    "    # final transform in accordance with RGB channels\n",
    "    # reversed for convenience\n",
    "    euc = Image.fromarray(euc_tranformed)\n",
    "    chess = Image.fromarray(chess_tranformed)\n",
    "    \n",
    "    mixed = Image.merge(\"RGB\", (grey, euc, chess))\n",
    "    mixed.save('data_dir/test_images/random_stuff/mixed_images/'+item)"
   ]
  },
  {
   "cell_type": "code",
   "execution_count": 49,
   "metadata": {},
   "outputs": [
    {
     "data": {
      "image/png": "[encoded data removed]",
      "text/plain": [
       "<Figure size 864x576 with 1 Axes>"
      ]
     },
     "metadata": {
      "needs_background": "light"
     },
     "output_type": "display_data"
    }
   ],
   "source": [
    "plt.figure(figsize=(12, 8))\n",
    "plt.imshow(binary_data);"
   ]
  }
 ],
 "metadata": {
  "kernelspec": {
   "display_name": "Python 3",
   "language": "python",
   "name": "python3"
  },
  "language_info": {
   "codemirror_mode": {
    "name": "ipython",
    "version": 3
   },
   "file_extension": ".py",
   "mimetype": "text/x-python",
   "name": "python",
   "nbconvert_exporter": "python",
   "pygments_lexer": "ipython3",
   "version": "3.7.3"
  }
 },
 "nbformat": 4,
 "nbformat_minor": 2
}
